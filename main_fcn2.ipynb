{
 "cells": [
  {
   "cell_type": "code",
   "execution_count": 2,
   "metadata": {},
   "outputs": [],
   "source": [
    "import tensorflow as tf\n",
    "import os\n",
    "import numpy as np\n",
    "from scipy import misc\n",
    "import sys\n",
    "from random import shuffle\n",
    "from random import uniform\n",
    "import zipfile\n",
    "from collections import OrderedDict\n",
    "import glob\n",
    "import time\n",
    "from PIL import Image\n",
    "from moviepy.editor import VideoFileClip\n",
    "from tqdm import tqdm\n",
    "\n",
    "%matplotlib inline\n",
    "import matplotlib.pyplot as plt"
   ]
  },
  {
   "cell_type": "markdown",
   "metadata": {},
   "source": [
    "### 0a - utility functions : \n"
   ]
  },
  {
   "cell_type": "code",
   "execution_count": null,
   "metadata": {},
   "outputs": [],
   "source": [
    "def plot_image(image_path=None, img=None, from_path=True):\n",
    "    if (from_path == True):\n",
    "        img = misc.imread(image_path)\n",
    "    if len(img.shape) == 4:\n",
    "        img = np.squeeze(img)\n",
    "    if img.dtype != np.uint8:\n",
    "        img = img.astype(np.uint8)\n",
    "    plt.imshow(img)\n",
    "    plt.show()"
   ]
  },
  {
   "cell_type": "code",
   "execution_count": null,
   "metadata": {},
   "outputs": [],
   "source": [
    "# num_classes = 20, 19 objects classes plus one background glass\n",
    "\n",
    "def prepare_ground_truth(img):\n",
    "    \n",
    "    # Five classes: road, side_walk, pedestrian, vehicles, others\n",
    "    NUM_CLASSES = 20\n",
    "    new_image = np.zeros((img.shape[0], img.shape[1], NUM_CLASSES))\n",
    "    \n",
    "    # (original_id)\n",
    "    # road\n",
    "    road_mask = img == 7\n",
    "    # sidewalk \n",
    "    sidewalk_mask = img == 8\n",
    "    \n",
    "    building_mask = img == 11\n",
    "    wall_mask = img == 12\n",
    "    fence_mask = img == 13\n",
    "    pole_mask = img == 17\n",
    "    traffic_light_mask = img == 19\n",
    "    traffic_sign_mask = img == 20\n",
    "    vegetation_mask = img == 21\n",
    "    terrain_mask = img == 22\n",
    "    sky_mask = img == 23\n",
    "    person_mask = img == 24\n",
    "    rider_mask = img == 25\n",
    "    car_mask = img == 26\n",
    "    truck_mask = img == 27\n",
    "    bus_mask = img == 28\n",
    "    train_mask = img == 31\n",
    "    motorcycle_mask = img == 32\n",
    "    bicycle_mask = img == 33\n",
    "    \n",
    "    # everything else\n",
    "    else_mask = np.logical_not(np.logical_or.reduce((road_mask, sidewalk_mask, building_mask, wall_mask,\n",
    "                                                     fence_mask, pole_mask, traffic_light_mask, traffic_sign_mask,\n",
    "                                                     vegetation_mask, terrain_mask, sky_mask, person_mask,\n",
    "                                                     rider_mask, car_mask, truck_mask, bus_mask,\n",
    "                                                     train_mask, motorcycle_mask, bicycle_mask)))\n",
    "\n",
    "\n",
    "    new_image[:,:,0] = road_mask\n",
    "    new_image[:,:,1] = sidewalk_mask\n",
    "    new_image[:,:,2] = building_mask\n",
    "    new_image[:,:,3] = wall_mask\n",
    "    new_image[:,:,4] = fence_mask\n",
    "    new_image[:,:,5] = pole_mask\n",
    "    new_image[:,:,6] = traffic_light_mask\n",
    "    new_image[:,:,7] = traffic_sign_mask\n",
    "    new_image[:,:,8] = vegetation_mask\n",
    "    new_image[:,:,9] = terrain_mask\n",
    "    new_image[:,:,10] = sky_mask\n",
    "    new_image[:,:,11] = person_mask\n",
    "    new_image[:,:,12] = rider_mask\n",
    "    new_image[:,:,13] = car_mask\n",
    "    new_image[:,:,14] = truck_mask\n",
    "    new_image[:,:,15] = bus_mask\n",
    "    new_image[:,:,16] = train_mask\n",
    "    new_image[:,:,17] = motorcycle_mask\n",
    "    new_image[:,:,18] = bicycle_mask\n",
    "    new_image[:,:,19] = else_mask\n",
    "    \n",
    "    return new_image.astype(np.float32)\n"
   ]
  },
  {
   "cell_type": "code",
   "execution_count": null,
   "metadata": {},
   "outputs": [],
   "source": [
    "# visualize_prediction for cityscape data\n",
    "def visualize_prediction(original_image, prediction):\n",
    "    \n",
    "    original_image = np.squeeze(original_image).astype(np.uint8)\n",
    "    new_image = np.copy(original_image)\n",
    "    prediction = np.squeeze(prediction)\n",
    "    mask = np.argmax(prediction, axis=2)\n",
    "    # road = green\n",
    "    # new_image[mask[:,:]==0, :] = [0,255,0]\n",
    "    # sidewalk = blue\n",
    "    #new_image[mask[:,:]==1, :] = [0,0,255]\n",
    "    # pedestrians = yellow\n",
    "    #new_image[mask[:,:]==2, :] = [255,255,0]\n",
    "    # vehicles = red\n",
    "    #new_image[mask[:,:]==3, :] = [255,0,0]\n",
    "    # else is left the same\n",
    "    \n",
    "    new_image[mask[:,:]==0, :] = [128, 64, 128]\n",
    "    new_image[mask[:,:]==1, :] = [244, 35, 232]\n",
    "    new_image[mask[:,:]==2, :] = [70, 70, 70]\n",
    "    new_image[mask[:,:]==3, :] = [102, 102, 156]\n",
    "    new_image[mask[:,:]==4, :] = [190, 153, 153]\n",
    "    new_image[mask[:,:]==5, :] = [153, 153, 153]\n",
    "    new_image[mask[:,:]==6, :] = [250, 170, 30]\n",
    "    new_image[mask[:,:]==7, :] = [220, 220,  0]\n",
    "    new_image[mask[:,:]==8, :] = [107, 142, 35]\n",
    "    new_image[mask[:,:]==9, :] = [128, 64, 128]\n",
    "    new_image[mask[:,:]==10, :] = [152, 251, 152]\n",
    "    new_image[mask[:,:]==11, :] = [220, 20, 60]\n",
    "    new_image[mask[:,:]==12, :] = [255,  0,  0]\n",
    "    new_image[mask[:,:]==13, :] = [0, 0, 142]\n",
    "    new_image[mask[:,:]==14, :] = [0, 0, 70]\n",
    "    new_image[mask[:,:]==15, :] = [0, 60, 100]\n",
    "    new_image[mask[:,:]==16, :] = [0, 80, 100]\n",
    "    new_image[mask[:,:]==17, :] = [0, 0, 230]\n",
    "    new_image[mask[:,:]==18, :] = [119, 11, 32]\n",
    "    new_image[mask[:,:]==19, :] = [128, 64, 128]\n",
    "    \n",
    "    new_image = Image.blend(Image.fromarray(original_image, mode='RGB').convert('RGBA'),\n",
    "                            Image.fromarray(new_image, mode='RGB').convert('RGBA'),\n",
    "                            alpha=0.5)\n",
    "    \n",
    "    plt.imshow(new_image, interpolation='nearest')\n",
    "    plt.show()"
   ]
  },
  {
   "cell_type": "markdown",
   "metadata": {},
   "source": [
    "### 0b - data loader function : get_data()\n",
    "input: directory location for trainning images and GT, image size, crop or not, batch_size, mode_for_shuffle\n",
    "\n",
    "output: yield (images,label) for data feeding"
   ]
  },
  {
   "cell_type": "code",
   "execution_count": 3,
   "metadata": {},
   "outputs": [
    {
     "ename": "NameError",
     "evalue": "name 'train_imgs' is not defined",
     "output_type": "error",
     "traceback": [
      "\u001b[0;31m---------------------------------------------------------------------------\u001b[0m",
      "\u001b[0;31mNameError\u001b[0m                                 Traceback (most recent call last)",
      "\u001b[0;32m<ipython-input-3-8b4db780e567>\u001b[0m in \u001b[0;36m<module>\u001b[0;34m()\u001b[0m\n\u001b[0;32m----> 1\u001b[0;31m \u001b[0;32mdef\u001b[0m \u001b[0mget_data\u001b[0m\u001b[0;34m(\u001b[0m\u001b[0mbatch_size\u001b[0m\u001b[0;34m=\u001b[0m\u001b[0;36m1\u001b[0m\u001b[0;34m,\u001b[0m \u001b[0mnum_classes\u001b[0m\u001b[0;34m=\u001b[0m\u001b[0;36m20\u001b[0m\u001b[0;34m,\u001b[0m \u001b[0mmode\u001b[0m\u001b[0;34m=\u001b[0m\u001b[0;34m'train'\u001b[0m\u001b[0;34m,\u001b[0m \u001b[0mimgs\u001b[0m\u001b[0;34m=\u001b[0m\u001b[0mtrain_imgs\u001b[0m\u001b[0;34m,\u001b[0m \u001b[0mgt\u001b[0m\u001b[0;34m=\u001b[0m\u001b[0mtrain_gt\u001b[0m\u001b[0;34m,\u001b[0m \u001b[0mim_size\u001b[0m\u001b[0;34m=\u001b[0m\u001b[0;36m500\u001b[0m\u001b[0;34m,\u001b[0m \u001b[0mno_crop\u001b[0m\u001b[0;34m=\u001b[0m\u001b[0;32mFalse\u001b[0m\u001b[0;34m)\u001b[0m\u001b[0;34m:\u001b[0m\u001b[0;34m\u001b[0m\u001b[0m\n\u001b[0m\u001b[1;32m      2\u001b[0m \u001b[0;34m\u001b[0m\u001b[0m\n\u001b[1;32m      3\u001b[0m     \u001b[0;31m# Expects sorted lists of training images and ground truth as\u001b[0m\u001b[0;34m\u001b[0m\u001b[0;34m\u001b[0m\u001b[0m\n\u001b[1;32m      4\u001b[0m     \u001b[0;31m# 'data' and 'labels'\u001b[0m\u001b[0;34m\u001b[0m\u001b[0;34m\u001b[0m\u001b[0m\n\u001b[1;32m      5\u001b[0m     \u001b[0;32mif\u001b[0m \u001b[0;34m(\u001b[0m\u001b[0mmode\u001b[0m \u001b[0;34m==\u001b[0m \u001b[0;34m'val'\u001b[0m\u001b[0;34m)\u001b[0m\u001b[0;34m:\u001b[0m\u001b[0;34m\u001b[0m\u001b[0m\n",
      "\u001b[0;31mNameError\u001b[0m: name 'train_imgs' is not defined"
     ]
    }
   ],
   "source": [
    "def get_data(batch_size=1, num_classes=20, mode='train', imgs=train_imgs, gt=train_gt, im_size=500, no_crop=False):\n",
    "    \n",
    "    # Expects sorted lists of training images and ground truth as\n",
    "    # 'data' and 'labels'\n",
    "    if (mode == 'val'):\n",
    "        imgs = val_imgs\n",
    "        gt = val_gt\n",
    "    elif (mode == 'test'):\n",
    "        imgs = test_imgs\n",
    "        gt = test_gt\n",
    "    \n",
    "    # get shape from any image\n",
    "    shape_im = misc.imread(random_im_path)\n",
    "    \n",
    "    # Shuffle dataset\n",
    "    if mode=='train':\n",
    "        combined = list(zip(imgs, gt))\n",
    "        shuffle(combined)\n",
    "        imgs[:], gt[:] = zip(*combined)\n",
    "    \n",
    "    while(True):\n",
    "        for i in range(0,len(imgs),batch_size):\n",
    "            if (no_crop):\n",
    "                images = np.empty((batch_size, shape_im.shape[0], shape_im.shape[1], shape_im.shape[2]))\n",
    "                labels = np.empty((batch_size, shape_im.shape[0], shape_im.shape[1], num_classes))\n",
    "                for j, img in enumerate(imgs[i:i+batch_size]):\n",
    "                    train_im = misc.imread(img).astype(np.float32)\n",
    "                    images[j,:,:,:] = train_im\n",
    "                    gt_im = misc.imread(gt[i+j])\n",
    "                    labels[j,:,:,:] = prepare_ground_truth(gt_im)                   \n",
    "            else:\n",
    "                images = np.empty((batch_size, im_size, im_size, shape_im.shape[2]))\n",
    "                labels = np.empty((batch_size, im_size, im_size, num_classes))\n",
    "                for j, img in enumerate(imgs[i:i+batch_size]):\n",
    "                    # Crop the size we want from a random spot in the image (as a form of\n",
    "                    # minor data augmentation)\n",
    "                    new_start_row = np.random.randint(0, shape_im.shape[0] - im_size)\n",
    "                    new_start_col = np.random.randint(0, shape_im.shape[1] - im_size)\n",
    "                    train_im = misc.imread(img).astype(np.float32)\n",
    "\n",
    "                    train_im = train_im[new_start_row:new_start_row+im_size, new_start_col:new_start_col+im_size]\n",
    "                    images[j,:,:,:] = train_im\n",
    "\n",
    "                    gt_im = misc.imread(gt[i+j])\n",
    "                    gt_im = gt_im[new_start_row:new_start_row+im_size, new_start_col:new_start_col+im_size]\n",
    "                    labels[j,:,:,:] = prepare_ground_truth(gt_im)\n",
    "            \n",
    "            yield(images,label)\n",
    "            "
   ]
  },
  {
   "cell_type": "code",
   "execution_count": null,
   "metadata": {},
   "outputs": [],
   "source": [
    "train_generator = get_data(batch_size=5, )"
   ]
  },
  {
   "cell_type": "markdown",
   "metadata": {},
   "source": [
    "### 1 - network model function\n",
    "layers() + optimize()\n",
    "return: loss"
   ]
  },
  {
   "cell_type": "code",
   "execution_count": null,
   "metadata": {},
   "outputs": [],
   "source": []
  },
  {
   "cell_type": "markdown",
   "metadata": {},
   "source": [
    "### 2 - training process function\n",
    "return: loss"
   ]
  },
  {
   "cell_type": "code",
   "execution_count": null,
   "metadata": {},
   "outputs": [],
   "source": []
  },
  {
   "cell_type": "markdown",
   "metadata": {},
   "source": [
    "### 3 - prediction function"
   ]
  },
  {
   "cell_type": "markdown",
   "metadata": {},
   "source": [
    "### 4 - evaluate function"
   ]
  },
  {
   "cell_type": "code",
   "execution_count": null,
   "metadata": {},
   "outputs": [],
   "source": []
  }
 ],
 "metadata": {
  "kernelspec": {
   "display_name": "Python 3",
   "language": "python",
   "name": "python3"
  },
  "language_info": {
   "codemirror_mode": {
    "name": "ipython",
    "version": 3
   },
   "file_extension": ".py",
   "mimetype": "text/x-python",
   "name": "python",
   "nbconvert_exporter": "python",
   "pygments_lexer": "ipython3",
   "version": "3.6.2"
  }
 },
 "nbformat": 4,
 "nbformat_minor": 2
}
